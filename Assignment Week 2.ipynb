{
 "cells": [
  {
   "cell_type": "markdown",
   "id": "e980af95",
   "metadata": {},
   "source": [
    "## Q1. How do you comment code in Python? What are the different types of comments?"
   ]
  },
  {
   "cell_type": "markdown",
   "id": "524d0f1f",
   "metadata": {},
   "source": [
    "In Python, you can use the '#' symbol to create a single-line comment. Anything following the '#' symbol on the same line is considered a comment and is not executed by the Python interpreter. Example:"
   ]
  },
  {
   "cell_type": "code",
   "execution_count": 1,
   "id": "c67f3ddd",
   "metadata": {},
   "outputs": [],
   "source": [
    "# This is a single-line comment"
   ]
  },
  {
   "cell_type": "markdown",
   "id": "1989d0a1",
   "metadata": {},
   "source": [
    "For multi-line comments, you can use triple quotes ('''...''') or triple double quotes (\"\"\"...\"\"\"). Although they are not specifically designed for comments, they can be used as such. Example:"
   ]
  },
  {
   "cell_type": "code",
   "execution_count": 2,
   "id": "2fd572d9",
   "metadata": {},
   "outputs": [
    {
     "data": {
      "text/plain": [
       "'\\nThis is a\\nmulti-line\\ncomment\\n'"
      ]
     },
     "execution_count": 2,
     "metadata": {},
     "output_type": "execute_result"
    }
   ],
   "source": [
    "\"\"\"\n",
    "This is a\n",
    "multi-line\n",
    "comment\n",
    "\"\"\""
   ]
  },
  {
   "cell_type": "markdown",
   "id": "99356a19",
   "metadata": {},
   "source": [
    "## Q2. What are variables in Python? How do you declare and assign values to variables?"
   ]
  },
  {
   "cell_type": "markdown",
   "id": "b0a4ee79",
   "metadata": {},
   "source": [
    "Variables in Python are used to store data values. They act as placeholders for storing and manipulating different types of data. You can declare a variable in Python simply by assigning a value to it using the '=' operator. Example:"
   ]
  },
  {
   "cell_type": "code",
   "execution_count": 3,
   "id": "37a250f7",
   "metadata": {},
   "outputs": [],
   "source": [
    "var = 100"
   ]
  },
  {
   "cell_type": "code",
   "execution_count": 4,
   "id": "3ee0d40c",
   "metadata": {},
   "outputs": [
    {
     "data": {
      "text/plain": [
       "100"
      ]
     },
     "execution_count": 4,
     "metadata": {},
     "output_type": "execute_result"
    }
   ],
   "source": [
    "var"
   ]
  },
  {
   "cell_type": "markdown",
   "id": "5cf52621",
   "metadata": {},
   "source": [
    "In the above example, a variable named 'var' is declared and assigned the value 100."
   ]
  },
  {
   "cell_type": "markdown",
   "id": "7ef789db",
   "metadata": {},
   "source": [
    "## Q3. How do you convert one data type to another in Python?"
   ]
  },
  {
   "cell_type": "markdown",
   "id": "5671e95f",
   "metadata": {},
   "source": [
    "To convert one data type to another in Python, you can use built-in functions that correspond to the desired data type. Here are a few commonly used functions:- \n",
    "(1) int(): Converts a value to an integer.\n",
    "(2) float(): Converts a value to a floating-point number.\n",
    "(3) str(): Converts a value to a string.\n",
    "(4) list(): Converts a value to a list.\n",
    "(5) tuple(): Converts a value to a tuple.\n",
    "Example:"
   ]
  },
  {
   "cell_type": "code",
   "execution_count": 5,
   "id": "766986e8",
   "metadata": {},
   "outputs": [],
   "source": [
    "# Converting a string to an integer\n",
    "s = \"123\""
   ]
  },
  {
   "cell_type": "code",
   "execution_count": 6,
   "id": "bab64d26",
   "metadata": {},
   "outputs": [],
   "source": [
    "i = int(s)"
   ]
  },
  {
   "cell_type": "code",
   "execution_count": 7,
   "id": "12e8325e",
   "metadata": {},
   "outputs": [
    {
     "data": {
      "text/plain": [
       "123"
      ]
     },
     "execution_count": 7,
     "metadata": {},
     "output_type": "execute_result"
    }
   ],
   "source": [
    "i"
   ]
  },
  {
   "cell_type": "markdown",
   "id": "01a0ac95",
   "metadata": {},
   "source": [
    "In the above example, the string \"123\" is converted to an integer using the int() function."
   ]
  },
  {
   "cell_type": "markdown",
   "id": "267eca55",
   "metadata": {},
   "source": [
    "## Q4. How do you write and execute a Python script from the command line?"
   ]
  },
  {
   "cell_type": "markdown",
   "id": "698a7d3a",
   "metadata": {},
   "source": [
    "To write and execute a Python script from the command line, follow these steps:- \n",
    "Step 1: Open a text editor and write your Python code.\n",
    "Step 2: Save the file with a .py extension, such as 'script.py'.\n",
    "Step 3: Open the Command Line Interface (CLI) or terminal.\n",
    "Step 4: Navigate to the directory where your Python script is located using the 'cd' command.\n",
    "Step 5: Execute the script by typing 'python script.py' in the command line and pressing Enter."
   ]
  },
  {
   "cell_type": "markdown",
   "id": "6ddcfb86",
   "metadata": {},
   "source": [
    "## Q5. Given a list my_list = [1, 2, 3, 4, 5], write the code to slice the list and obtain the sub-list [2, 3]."
   ]
  },
  {
   "cell_type": "code",
   "execution_count": 8,
   "id": "fa0b3b19",
   "metadata": {},
   "outputs": [],
   "source": [
    "my_list = [1,2,3,4,5]"
   ]
  },
  {
   "cell_type": "code",
   "execution_count": 9,
   "id": "60a759d1",
   "metadata": {},
   "outputs": [
    {
     "data": {
      "text/plain": [
       "[1, 2, 3, 4, 5]"
      ]
     },
     "execution_count": 9,
     "metadata": {},
     "output_type": "execute_result"
    }
   ],
   "source": [
    "my_list"
   ]
  },
  {
   "cell_type": "code",
   "execution_count": 10,
   "id": "fd8e0ab9",
   "metadata": {},
   "outputs": [],
   "source": [
    "sub_list = my_list[1:3]"
   ]
  },
  {
   "cell_type": "code",
   "execution_count": 11,
   "id": "01269f73",
   "metadata": {},
   "outputs": [
    {
     "data": {
      "text/plain": [
       "[2, 3]"
      ]
     },
     "execution_count": 11,
     "metadata": {},
     "output_type": "execute_result"
    }
   ],
   "source": [
    "sub_list"
   ]
  },
  {
   "cell_type": "markdown",
   "id": "e64686c6",
   "metadata": {},
   "source": [
    "## Q6. What is a complex number in mathematics, and how is it represented in Python?"
   ]
  },
  {
   "cell_type": "markdown",
   "id": "7da04726",
   "metadata": {},
   "source": [
    "In mathematics, a complex number is a number that comprises both a real part and an imaginary part. It is represented in the form 'a + bi', where 'a' is the real part, 'b' is the imaginary part, and 'i' represents the imaginary unit. \n",
    "In Python, complex numbers are represented using the 'j' suffix to denote the imaginary part. The 'complex()' function can also be used to create complex numbers explicitly. Example:"
   ]
  },
  {
   "cell_type": "code",
   "execution_count": 12,
   "id": "6c868e45",
   "metadata": {},
   "outputs": [],
   "source": [
    "# Using the j suffix\n",
    "c = 2 + 3j"
   ]
  },
  {
   "cell_type": "code",
   "execution_count": 13,
   "id": "93807a3b",
   "metadata": {},
   "outputs": [
    {
     "data": {
      "text/plain": [
       "(2+3j)"
      ]
     },
     "execution_count": 13,
     "metadata": {},
     "output_type": "execute_result"
    }
   ],
   "source": [
    "c"
   ]
  },
  {
   "cell_type": "code",
   "execution_count": 14,
   "id": "6f7f10b6",
   "metadata": {},
   "outputs": [],
   "source": [
    "# Using the complex() function\n",
    "c1 = complex(2, 3)"
   ]
  },
  {
   "cell_type": "code",
   "execution_count": 15,
   "id": "ebbbd195",
   "metadata": {},
   "outputs": [
    {
     "data": {
      "text/plain": [
       "(2+3j)"
      ]
     },
     "execution_count": 15,
     "metadata": {},
     "output_type": "execute_result"
    }
   ],
   "source": [
    "c1"
   ]
  },
  {
   "cell_type": "markdown",
   "id": "6909592c",
   "metadata": {},
   "source": [
    "## Q7. What is the correct way to declare a variable named age and assign the value 25 to it?"
   ]
  },
  {
   "cell_type": "markdown",
   "id": "566ce9f0",
   "metadata": {},
   "source": [
    "The correct way to declare a variable named 'age' and assign the value 25 to it in Python is as follows:"
   ]
  },
  {
   "cell_type": "code",
   "execution_count": 16,
   "id": "fde1d1ac",
   "metadata": {},
   "outputs": [],
   "source": [
    "age = 25"
   ]
  },
  {
   "cell_type": "code",
   "execution_count": 17,
   "id": "e860cd1d",
   "metadata": {},
   "outputs": [
    {
     "data": {
      "text/plain": [
       "25"
      ]
     },
     "execution_count": 17,
     "metadata": {},
     "output_type": "execute_result"
    }
   ],
   "source": [
    "age"
   ]
  },
  {
   "cell_type": "markdown",
   "id": "58adb1bd",
   "metadata": {},
   "source": [
    "## Q8. Declare a variable named price and assign the value 9.99 to it. What data type does this variable belong to?"
   ]
  },
  {
   "cell_type": "markdown",
   "id": "c2715096",
   "metadata": {},
   "source": [
    "To declare a variable named 'price' and assign the value 9.99 to it, you can use the following code:"
   ]
  },
  {
   "cell_type": "code",
   "execution_count": 18,
   "id": "f2f60f18",
   "metadata": {},
   "outputs": [],
   "source": [
    "price = 9.99"
   ]
  },
  {
   "cell_type": "code",
   "execution_count": 19,
   "id": "5dd54b37",
   "metadata": {},
   "outputs": [
    {
     "data": {
      "text/plain": [
       "float"
      ]
     },
     "execution_count": 19,
     "metadata": {},
     "output_type": "execute_result"
    }
   ],
   "source": [
    "type(price)"
   ]
  },
  {
   "cell_type": "markdown",
   "id": "a9c94e3e",
   "metadata": {},
   "source": [
    "The variable 'price' belongs to the data type \"float\" since it holds a decimal (floating-point) value."
   ]
  },
  {
   "cell_type": "markdown",
   "id": "4769edec",
   "metadata": {},
   "source": [
    "## Q9. Create a variable named name and assign your full name to it as a string. How would you print the value of this variable?"
   ]
  },
  {
   "cell_type": "markdown",
   "id": "e648c024",
   "metadata": {},
   "source": [
    "To create a variable named 'name' and assign your full name to it as a string, you can use the following code:"
   ]
  },
  {
   "cell_type": "code",
   "execution_count": 20,
   "id": "c1043201",
   "metadata": {},
   "outputs": [],
   "source": [
    "name = \"Kunal Mishra\""
   ]
  },
  {
   "cell_type": "markdown",
   "id": "e82280c7",
   "metadata": {},
   "source": [
    "To print the value of the 'name' variable, you can use the 'print()' function:"
   ]
  },
  {
   "cell_type": "code",
   "execution_count": 21,
   "id": "32eb906d",
   "metadata": {},
   "outputs": [
    {
     "name": "stdout",
     "output_type": "stream",
     "text": [
      "Kunal Mishra\n"
     ]
    }
   ],
   "source": [
    "print(name)"
   ]
  },
  {
   "cell_type": "markdown",
   "id": "421135fe",
   "metadata": {},
   "source": [
    "## Q10. Given the string \"Hello, World!\", extract the substring \"World\"."
   ]
  },
  {
   "cell_type": "code",
   "execution_count": 22,
   "id": "d052463d",
   "metadata": {},
   "outputs": [],
   "source": [
    "my_string = \"Hello, World!\""
   ]
  },
  {
   "cell_type": "code",
   "execution_count": 23,
   "id": "dfedf138",
   "metadata": {},
   "outputs": [
    {
     "data": {
      "text/plain": [
       "'Hello, World!'"
      ]
     },
     "execution_count": 23,
     "metadata": {},
     "output_type": "execute_result"
    }
   ],
   "source": [
    "my_string"
   ]
  },
  {
   "cell_type": "code",
   "execution_count": 24,
   "id": "093571b4",
   "metadata": {},
   "outputs": [],
   "source": [
    "substring = my_string[7:12]"
   ]
  },
  {
   "cell_type": "code",
   "execution_count": 25,
   "id": "5ae33260",
   "metadata": {},
   "outputs": [
    {
     "data": {
      "text/plain": [
       "'World'"
      ]
     },
     "execution_count": 25,
     "metadata": {},
     "output_type": "execute_result"
    }
   ],
   "source": [
    "substring"
   ]
  },
  {
   "cell_type": "markdown",
   "id": "231e7f80",
   "metadata": {},
   "source": [
    "## Q11. Create a variable named \"is_student\" and assign it a boolean value indicating whether you are currently a student or not."
   ]
  },
  {
   "cell_type": "markdown",
   "id": "1665f373",
   "metadata": {},
   "source": [
    "To create a variable named 'is_student' and assign a boolean value indicating whether you are currently a student or not, you can use the following code:"
   ]
  },
  {
   "cell_type": "code",
   "execution_count": 26,
   "id": "20bc096c",
   "metadata": {},
   "outputs": [],
   "source": [
    "is_student = True"
   ]
  },
  {
   "cell_type": "code",
   "execution_count": 27,
   "id": "45b95552",
   "metadata": {},
   "outputs": [
    {
     "data": {
      "text/plain": [
       "True"
      ]
     },
     "execution_count": 27,
     "metadata": {},
     "output_type": "execute_result"
    }
   ],
   "source": [
    "is_student"
   ]
  },
  {
   "cell_type": "markdown",
   "id": "e4cd5561",
   "metadata": {},
   "source": [
    "Here, 'True' represents that you are currently a student, while 'False' would indicate that you are not."
   ]
  }
 ],
 "metadata": {
  "kernelspec": {
   "display_name": "Python 3 (ipykernel)",
   "language": "python",
   "name": "python3"
  },
  "language_info": {
   "codemirror_mode": {
    "name": "ipython",
    "version": 3
   },
   "file_extension": ".py",
   "mimetype": "text/x-python",
   "name": "python",
   "nbconvert_exporter": "python",
   "pygments_lexer": "ipython3",
   "version": "3.10.0"
  }
 },
 "nbformat": 4,
 "nbformat_minor": 5
}
